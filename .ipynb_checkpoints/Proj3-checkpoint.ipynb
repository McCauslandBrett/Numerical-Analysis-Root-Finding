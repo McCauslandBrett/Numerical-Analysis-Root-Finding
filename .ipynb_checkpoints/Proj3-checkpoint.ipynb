{
 "cells": [
  {
   "cell_type": "markdown",
   "metadata": {},
   "source": [
    "# Numerical Anaylasis Proj 3\n"
   ]
  },
  {
   "cell_type": "markdown",
   "metadata": {},
   "source": [
    "### Prolem 1: Write a simple program to compare the secant method with Newton’s method for finding a root of each function.\n",
    "### a. x3 − 3x + 1 with x0 = 2\n",
    "### b. x3 − 2 sin x with x0 = 1/2\n",
    "### Use the x1 value from Newton’s method as the second starting point for the secant method.\n",
    "#### Print out first ten iterations for both methods."
   ]
  },
  {
   "cell_type": "code",
   "execution_count": 3,
   "metadata": {},
   "outputs": [
    {
     "name": "stdout",
     "output_type": "stream",
     "text": [
      "newtons method fa\n",
      "x: 1.6666666666666667 f(x) 0.6296296296296302 n 1\n",
      "x: 1.5486111111111112 f(x) 0.06804021722822395 n 2\n",
      "x: 1.53239016186538 f(x) 0.0012181398810356958 n 3\n",
      "x: 1.5320889893972243 f(x) 4.16958367277509e-07 n 4\n",
      "x: 1.532088886237968 f(x) 4.851674617611934e-14 n 5\n",
      "x: 1.532088886237956 f(x) 0.0 n 6\n",
      "secantmethod fa\n",
      "x: 1.578125 f(x) 0.19591140747070312 n 1\n",
      "newtons method fb\n",
      "x: -0.329566264766556 f(x) 0.611469847198405 n 1\n",
      "x: 0.0607692234542128 f(x) -0.121239241285804 n 2\n",
      "x: -0.000301417852542299 f(x) 0.000602835668571755 n 3\n",
      "x: 3.65128496014611e-11 f(x) -7.30256992029221e-11 n 4\n",
      "x: 0 f(x) 0 n 5\n",
      "secantmethod fb\n",
      "x: 0.0213971431464272 f(x) -0.0427812244748732 n 1\n"
     ]
    }
   ],
   "source": [
    "#import sympy\n",
    "from sympy import *\n",
    "import sympy as sym\n",
    "import math\n",
    "#using init_printing\n",
    "sym.init_printing(use_latex=\"mathjax\")\n",
    "init_printing(use_unicode=True,)\n",
    "\n",
    "\n",
    "\n",
    "def fa(x): \n",
    "    return x *((x*x)-3)+1\n",
    "\n",
    "def dfa(x): \n",
    "    return 3*(x * x) - 3 \n",
    "\n",
    "def fb(x): \n",
    "    return (x * x * x) -2*sin(x)\n",
    "\n",
    "def dfb(x): \n",
    "    return 3*(x * x )- 2*cos(x) \n",
    "  \n",
    "# Function to find the root \n",
    "def newtonsmethod(f,df,x,tolerance): \n",
    "#     h = f(x) / df(x)\n",
    "    n=0\n",
    "    while abs(f(x)) >= tolerance: \n",
    "        h = f(x)/df(x) \n",
    "        x = x - h\n",
    "        n=n+1\n",
    "        print('x:',x,'f(x)',f(x),'n',n)\n",
    "def secantmethod(x0,x1,f,tolerance):\n",
    "    n=0\n",
    "#     h = (f(x1)*(x1-x0))/(f(x0) - f(x1))\n",
    "    while abs(f(x1)) >= tolerance: \n",
    "        if(f(x1) - f(x0)==0):\n",
    "            break\n",
    "        h = f(x1)*((x1-x0)/(f(x1) - f(x0)))\n",
    "        x1 = x1 - h\n",
    "        x0=x1\n",
    "        n=n+1\n",
    "        print('x:',x1,'f(x)',f(x1),'n',n)\n",
    "x0a =2\n",
    "x0b=0.5\n",
    "x1a=1.6666666666666667\n",
    "x1b=  -0.329566264766556\n",
    "print('newtons method fa')\n",
    "newtonsmethod(fa,dfa,x0a,0.000000000000000000001)\n",
    "print('secantmethod fa')\n",
    "secantmethod(x0a,x1a,fa,0.000000000000000000001)\n",
    "print('newtons method fb')\n",
    "newtonsmethod(fb,dfb,x0b,0.000000000000000000001) \n",
    "print('secantmethod fb')\n",
    "secantmethod(x0b,x1b,fb,0.000000000000000000001)"
   ]
  },
  {
   "cell_type": "markdown",
   "metadata": {},
   "source": [
    "## Problem 2:\n",
    "### Using a function of your choice, verify numerically that the iterative method is cubically convergent at a simple root but only linearly convergent at a multiple root."
   ]
  },
  {
   "cell_type": "code",
   "execution_count": 34,
   "metadata": {},
   "outputs": [
    {
     "name": "stdout",
     "output_type": "stream",
     "text": [
      "othermethod method testing with multiple root\n",
      "not cubically convergent\n",
      "othermethod method testing with simple root\n",
      "cubically convergent\n"
     ]
    }
   ],
   "source": [
    "#import sympy\n",
    "from sympy import *\n",
    "import sympy as sym\n",
    "import math\n",
    "#using init_printing\n",
    "sym.init_printing(use_latex=\"mathjax\")\n",
    "init_printing(use_unicode=True,)\n",
    "def fc(x): \n",
    "    return x*(x*(x-5)+8)-4\n",
    "\n",
    "def fd(x): \n",
    "    return x*(x-3)+2\n",
    "\n",
    "def dfd(x): \n",
    "    return 2*x-3\n",
    "\n",
    "def ddfd(x): \n",
    "    return 2\n",
    "\n",
    "def dfc(x): \n",
    "    return x*(x*3-10)+8 \n",
    "\n",
    "def ddfc(x): \n",
    "    return 6*x-10\n",
    "  \n",
    "# Function to find the root \n",
    "def othermethod(f,df,ddf,x,tolerance,l_error): \n",
    "    n=0\n",
    "    r=2\n",
    "   \n",
    "    while abs(f(x)) >= tolerance: \n",
    "#         print('denominator:',math.sqrt(pow(df(x),2)-f(x)*ddf(x)))\n",
    "        h = f(x)/ math.sqrt(pow(df(x),2)-f(x)*ddf(x)) \n",
    "#         print('h:',h)\n",
    "        x = x - h\n",
    "        l_error.append(x-2)\n",
    "        n=n+1\n",
    "#         print('x:',x,'f(x)',f(x),'n',n)\n",
    "  \n",
    "        \n",
    "def is_quadaticallyconvergent(l_error):\n",
    "#     if((pow(l_error[i+1],3) <= l_error[i])):\n",
    "\n",
    "#     print('l_error',l_error)\n",
    "    count=len(l_error)\n",
    "    for i in range(count-1):\n",
    "        if((pow(l_error[i+1],3) > l_error[i])):\n",
    "            return false\n",
    "    return true\n",
    "# --------------------------------------------driver ------------------------------------------------------------------           \n",
    "def othermethod(f,df,ddf,x,tolerance,l_error): \n",
    "    n=0\n",
    "    r=2\n",
    "   \n",
    "    while abs(f(x)) >= tolerance: \n",
    "#         print('denominator:',math.sqrt(pow(df(x),2)-f(x)*ddf(x)))\n",
    "        h = f(x)/ math.sqrt(pow(df(x),2)-f(x)*ddf(x)) \n",
    "#         print('h:',h)\n",
    "        x = x - h\n",
    "        l_error.append(x-2)\n",
    "        n=n+1\n",
    "#         print('x:',x,'f(x)',f(x),'n',n)\n",
    "  \n",
    "   \n",
    "l_error=[]       \n",
    "x0c =20\n",
    "\n",
    "# fc is a multiple root: (x-1)(x-2)(x-2) \n",
    "print('othermethod testing with multiple root')\n",
    "othermethod(fc,dfc,ddfc,x0c,0.00000001,l_error)\n",
    "# print('l_error',l_error)\n",
    "if(is_quadaticallyconvergent(l_error)):\n",
    "    print('therefore it is cubically convergent')\n",
    "else:\n",
    "    print('not cubically convergent')\n",
    "\n",
    "l_error.clear()\n",
    "\n",
    "# fd is a simple root: (x-1)(x-2)\n",
    "print('othermethod testing with simple root')\n",
    "othermethod(fd,dfd,ddfd,x0c,0.00000001,l_error)\n",
    "# print('l_error',l_error)\n",
    "if(is_quadaticallyconvergent(l_error)):\n",
    "    print('cubically convergent')\n",
    "else:\n",
    "    print('not cubically convergent')"
   ]
  },
  {
   "cell_type": "markdown",
   "metadata": {
    "collapsed": true
   },
   "source": [
    "### fc is a multiple root: (x-1)(x-2)(x-2) \n"
   ]
  },
  {
   "cell_type": "code",
   "execution_count": 5,
   "metadata": {},
   "outputs": [
    {
     "name": "stdout",
     "output_type": "stream",
     "text": [
      "othermethod testing with multiple root\n",
      "not cubically convergent\n"
     ]
    }
   ],
   "source": [
    "#import sympy\n",
    "from sympy import *\n",
    "import sympy as sym\n",
    "import math\n",
    "#using init_printing\n",
    "sym.init_printing(use_latex=\"mathjax\")\n",
    "init_printing(use_unicode=True,)\n",
    "\n",
    "def is_quadaticallyconvergent(l_error):\n",
    "    count=len(l_error)\n",
    "    for i in range(count-1):\n",
    "        if((pow(l_error[i+1],3) > l_error[i])):\n",
    "            return false\n",
    "    return true\n",
    "def fc(x): \n",
    "    return x*(x*(x-5)+8)-4\n",
    "\n",
    "def dfc(x): \n",
    "    return x*(x*3-10)+8 \n",
    "\n",
    "def ddfc(x): \n",
    "    return 6*x-10\n",
    "\n",
    "def othermethod(f,df,ddf,x,tolerance,l_error): \n",
    "    n=0\n",
    "    r=2\n",
    "\n",
    "    while abs(f(x)) >= tolerance: \n",
    "#         print('denominator:',math.sqrt(pow(df(x),2)-f(x)*ddf(x)))\n",
    "        h = f(x)/ math.sqrt(pow(df(x),2)-f(x)*ddf(x)) \n",
    "#         print('h:',h)\n",
    "        x = x - h\n",
    "        l_error.append(x-2)\n",
    "        n=n+1\n",
    "#         print('x:',x,'f(x)',f(x),'n',n)\n",
    "  \n",
    "\n",
    "\n",
    "l_error=[]       \n",
    "x0c =20\n",
    "\n",
    "# fc is a multiple root: (x-1)(x-2)(x-2) \n",
    "print('othermethod testing with multiple root')\n",
    "othermethod(fc,dfc,ddfc,x0c,0.00000001,l_error)\n",
    "# print('l_error',l_error)\n",
    "if(is_quadaticallyconvergent(l_error)):\n",
    "    print('therefore it is cubically convergent')\n",
    "else:\n",
    "    print('not cubically convergent')"
   ]
  },
  {
   "cell_type": "markdown",
   "metadata": {},
   "source": [
    "### fd is a simple root: (x-1)(x-2)\n"
   ]
  },
  {
   "cell_type": "code",
   "execution_count": 4,
   "metadata": {},
   "outputs": [
    {
     "name": "stdout",
     "output_type": "stream",
     "text": [
      "othermethod testing with simple root\n",
      "cubically convergent\n"
     ]
    }
   ],
   "source": [
    "#import sympy\n",
    "from sympy import *\n",
    "import sympy as sym\n",
    "import math\n",
    "#using init_printing\n",
    "sym.init_printing(use_latex=\"mathjax\")\n",
    "init_printing(use_unicode=True,)\n",
    "\n",
    "def is_quadaticallyconvergent(l_error):\n",
    "    count=len(l_error)\n",
    "    for i in range(count-1):\n",
    "        if((pow(l_error[i+1],3) > l_error[i])):\n",
    "            return false\n",
    "    return true\n",
    "def fd(x): \n",
    "    return x*(x-3)+2\n",
    "\n",
    "def dfd(x): \n",
    "    return 2*x-3\n",
    "\n",
    "def ddfd(x): \n",
    "    return 2\n",
    "\n",
    "def othermethod(f,df,ddf,x,tolerance,l_error): \n",
    "    n=0\n",
    "    r=2\n",
    "   \n",
    "    while abs(f(x)) >= tolerance: \n",
    "#         print('denominator:',math.sqrt(pow(df(x),2)-f(x)*ddf(x)))\n",
    "        h = f(x)/ math.sqrt(pow(df(x),2)-f(x)*ddf(x)) \n",
    "#         print('h:',h)\n",
    "        x = x - h\n",
    "        l_error.append(x-2)\n",
    "        n=n+1\n",
    "#         print('x:',x,'f(x)',f(x),'n',n)\n",
    "\n",
    "l_error=[]       \n",
    "x0c =20\n",
    "\n",
    "\n",
    "# fd is a simple root: (x-1)(x-2)\n",
    "print('othermethod testing with simple root')\n",
    "othermethod(fd,dfd,ddfd,x0c,0.00000001,l_error)\n",
    "# print('l_error',l_error)\n",
    "if(is_quadaticallyconvergent(l_error)):\n",
    "    print('cubically convergent')\n",
    "else:\n",
    "    print('not cubically convergent')"
   ]
  },
  {
   "cell_type": "code",
   "execution_count": null,
   "metadata": {
    "collapsed": true
   },
   "outputs": [],
   "source": []
  }
 ],
 "metadata": {
  "kernelspec": {
   "display_name": "Python 3",
   "language": "python",
   "name": "python3"
  },
  "language_info": {
   "codemirror_mode": {
    "name": "ipython",
    "version": 3
   },
   "file_extension": ".py",
   "mimetype": "text/x-python",
   "name": "python",
   "nbconvert_exporter": "python",
   "pygments_lexer": "ipython3",
   "version": "3.6.3"
  }
 },
 "nbformat": 4,
 "nbformat_minor": 2
}
